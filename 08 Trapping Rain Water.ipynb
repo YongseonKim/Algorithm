{
 "cells": [
  {
   "cell_type": "code",
   "execution_count": null,
   "metadata": {},
   "outputs": [],
   "source": [
    "# https://leetcode.com/problems/trapping-rain-water/submissions/"
   ]
  },
  {
   "cell_type": "code",
   "execution_count": null,
   "metadata": {},
   "outputs": [],
   "source": [
    "class Solution:\n",
    "    def trap(self, height: List[int]) -> int:\n",
    "        if not height : return 0\n",
    "        \n",
    "        answer = 0\n",
    "        \n",
    "        left, right = 0, len(height)-1\n",
    "        left_pointer, right_pointer = height[left], height[right]\n",
    "        \n",
    "        # pointer를 옮겨가면서 작아지면 answer += value\n",
    "        \n",
    "        while left< right:\n",
    "            if height[left]<height[right] : #더 작은 쪽이 먼저 움직인다 \n",
    "                if left_pointer-height[left]>0:\n",
    "                    answer += left_pointer-height[left]\n",
    "                else : \n",
    "                    left_pointer = height[left]\n",
    "                left +=1\n",
    "            else : \n",
    "                if right_pointer-height[right]>0:\n",
    "                    answer += right_pointer-height[right]\n",
    "                else : \n",
    "                    right_pointer = height[right]\n",
    "                right -=1\n",
    "            \n",
    "        return answer"
   ]
  }
 ],
 "metadata": {
  "kernelspec": {
   "display_name": "ion",
   "language": "python",
   "name": "ion"
  },
  "language_info": {
   "codemirror_mode": {
    "name": "ipython",
    "version": 3
   },
   "file_extension": ".py",
   "mimetype": "text/x-python",
   "name": "python",
   "nbconvert_exporter": "python",
   "pygments_lexer": "ipython3",
   "version": "3.7.7"
  }
 },
 "nbformat": 4,
 "nbformat_minor": 4
}
