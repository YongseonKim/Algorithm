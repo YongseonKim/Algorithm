{
 "cells": [
  {
   "cell_type": "code",
   "execution_count": 1,
   "metadata": {},
   "outputs": [],
   "source": [
    "# https://leetcode.com/problems/longest-palindromic-substring/"
   ]
  },
  {
   "cell_type": "code",
   "execution_count": null,
   "metadata": {},
   "outputs": [],
   "source": [
    "class Solution:\n",
    "    def longestPalindrome(self, s: str) -> str:\n",
    "        \n",
    "        # 가장 긴 팰린드롬 부분 문자열 출력\n",
    "        # 투 포인트로 풀면 되겠다.\n",
    "        # 비교를 하는데 한칸씩 움직이는 것과 두칸씩 움직이는 것\n",
    "        # Result 값을 같이 비교해야한다. \n",
    "        # s ='ccd'\n",
    "        if len(s)==1 or s == s[::-1]:\n",
    "            return s\n",
    "        \n",
    "        result = ''\n",
    "        def check(left, right) :\n",
    "                        \n",
    "            while left>=0 and right<=len(s) and s[left] == s[right-1]:\n",
    "                left -= 1\n",
    "                right +=1            \n",
    "            return s[left+1:right-1] # 마지막에 한칸씩 늘렸으니까 줄이는 것\n",
    "        \n",
    "        for idx, word in enumerate(s):\n",
    "            result =max(result, check(idx,idx+1), check(idx,idx+2),key = len)\n",
    "            \n",
    "        return result\n",
    "        \n"
   ]
  },
  {
   "cell_type": "code",
   "execution_count": null,
   "metadata": {},
   "outputs": [],
   "source": [
    "class Solution:\n",
    "    def longestPalindrome(self, s: str) -> str:\n",
    "        \n",
    "        # 가장 긴 팰린드롬 부분 문자열 출력\n",
    "        # 투 포인트로 풀면 되겠다.\n",
    "        \n",
    "        # s = \"aacabdkacaa\"\n",
    "        if len(s)==1 or s == s[::-1]:\n",
    "            return s\n",
    "        \n",
    "        result = s[0]\n",
    "        for idx, word in enumerate(s):\n",
    "            left, right = idx-1,idx +1\n",
    "            if right-idx ==1  and right<len(s) and s[idx]== s[right] and len(result)<=1:\n",
    "                result = s[idx:right+1]\n",
    "                right +=1\n",
    "            elif left-idx == -1 and left>=0 and s[idx]==s[left] and len(result)<=1:\n",
    "                result = s[left:idx+1]\n",
    "                left -=1\n",
    "            else :\n",
    "                while left>=0 and  right <len(s) and s[left] == s[right]:\n",
    "                    print(result , s[left:right+1])\n",
    "                    if len(result)<len(s[left:right+1]):\n",
    "                        result = s[left:right+1]\n",
    "                    left -=1\n",
    "                    right +=1\n",
    "\n",
    "        return result\n",
    "            "
   ]
  },
  {
   "cell_type": "code",
   "execution_count": 2,
   "metadata": {},
   "outputs": [
    {
     "data": {
      "text/plain": [
       "'a'"
      ]
     },
     "execution_count": 2,
     "metadata": {},
     "output_type": "execute_result"
    }
   ],
   "source": [
    "max('','a')"
   ]
  }
 ],
 "metadata": {
  "kernelspec": {
   "display_name": "ion",
   "language": "python",
   "name": "ion"
  },
  "language_info": {
   "codemirror_mode": {
    "name": "ipython",
    "version": 3
   },
   "file_extension": ".py",
   "mimetype": "text/x-python",
   "name": "python",
   "nbconvert_exporter": "python",
   "pygments_lexer": "ipython3",
   "version": "3.7.7"
  }
 },
 "nbformat": 4,
 "nbformat_minor": 4
}
