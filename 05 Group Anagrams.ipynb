{
 "cells": [
  {
   "cell_type": "code",
   "execution_count": 1,
   "metadata": {},
   "outputs": [],
   "source": [
    "# https://leetcode.com/problems/group-anagrams/"
   ]
  },
  {
   "cell_type": "code",
   "execution_count": null,
   "metadata": {},
   "outputs": [],
   "source": [
    "class Solution:\n",
    "    def groupAnagrams(self, strs: List[str]) -> List[List[str]]:\n",
    "        # anagram 단위로 그룹핑하는 것\n",
    "        \n",
    "        dic = collections.defaultdict(list)\n",
    "        \n",
    "        for idx, word in enumerate(strs) :\n",
    "            word = list(word)\n",
    "            word.sort()\n",
    "            word = ''.join(word)\n",
    "            if word in dic :\n",
    "\n",
    "                dic[word].append(strs[idx])\n",
    "            else :\n",
    "                dic[word] = [strs[idx]]\n",
    "                \n",
    "        results = []\n",
    "        for val in dic.values():\n",
    "            results.append(val)\n",
    "        return results"
   ]
  },
  {
   "cell_type": "code",
   "execution_count": null,
   "metadata": {},
   "outputs": [],
   "source": [
    "class Solution:\n",
    "    def groupAnagrams(self, strs: List[str]) -> List[List[str]]:\n",
    "        # anagram 단위로 그룹핑하는 것\n",
    "        \n",
    "        dic = collections.defaultdict(list)\n",
    "        \n",
    "        for idx, word in enumerate(strs) :\n",
    "\n",
    "            word = ''.join(sorted(word))\n",
    "            if word in dic :\n",
    "\n",
    "                dic[word].append(strs[idx])\n",
    "            else :\n",
    "                dic[word] = [strs[idx]]\n",
    "                \n",
    "        results = []\n",
    "        for val in dic.values():\n",
    "            results.append(val)\n",
    "        return results"
   ]
  }
 ],
 "metadata": {
  "kernelspec": {
   "display_name": "ion",
   "language": "python",
   "name": "ion"
  },
  "language_info": {
   "codemirror_mode": {
    "name": "ipython",
    "version": 3
   },
   "file_extension": ".py",
   "mimetype": "text/x-python",
   "name": "python",
   "nbconvert_exporter": "python",
   "pygments_lexer": "ipython3",
   "version": "3.7.7"
  }
 },
 "nbformat": 4,
 "nbformat_minor": 4
}
