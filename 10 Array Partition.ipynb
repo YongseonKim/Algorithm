{
 "cells": [
  {
   "cell_type": "code",
   "execution_count": 1,
   "metadata": {},
   "outputs": [],
   "source": [
    "# https://leetcode.com/problems/array-partition-i/"
   ]
  },
  {
   "cell_type": "code",
   "execution_count": null,
   "metadata": {},
   "outputs": [],
   "source": [
    "class Solution:\n",
    "    def arrayPairSum(self, nums: List[int]) -> int:\n",
    "\n",
    "        nums.sort()        \n",
    "        results= 0\n",
    "        \n",
    "        if len(nums)==2:\n",
    "            return min(nums)\n",
    "        \n",
    "        for idx in range(0,len(nums),2):\n",
    "            results += nums[idx] #짝수번째 값만 계산\n",
    "            # 아래 처럼 계산하면 복잡도가 추가 발생한다.\n",
    "            # results += min(nums[idx:idx+len(nums)//2])\n",
    "            \n",
    "        return results"
   ]
  },
  {
   "cell_type": "code",
   "execution_count": 4,
   "metadata": {},
   "outputs": [
    {
     "name": "stdout",
     "output_type": "stream",
     "text": [
      "0\n"
     ]
    }
   ],
   "source": [
    "class Solution:\n",
    "    def arrayPairSum(self, nums: List[int]) -> int:\n",
    "        # 2n개의 숫자열이 주어졌을 때  min(a,b) 의 합으로\n",
    "        # 가장 큰 수를 출력하라\n",
    "        \n",
    "        # 정렬해서 앞에서부터 끊으면 가장 작은 수가 되겠다.\n",
    "\n",
    "        nums.sort()        \n",
    "        results= 0\n",
    "        \n",
    "        if len(nums)==2:\n",
    "            return min(nums)\n",
    "        \n",
    "        for idx in range(0,len(nums),2):\n",
    "            results += min(nums[idx:idx+len(nums)//2])\n",
    "            \n",
    "        return results"
   ]
  }
 ],
 "metadata": {
  "kernelspec": {
   "display_name": "ion",
   "language": "python",
   "name": "ion"
  },
  "language_info": {
   "codemirror_mode": {
    "name": "ipython",
    "version": 3
   },
   "file_extension": ".py",
   "mimetype": "text/x-python",
   "name": "python",
   "nbconvert_exporter": "python",
   "pygments_lexer": "ipython3",
   "version": "3.7.7"
  }
 },
 "nbformat": 4,
 "nbformat_minor": 4
}
