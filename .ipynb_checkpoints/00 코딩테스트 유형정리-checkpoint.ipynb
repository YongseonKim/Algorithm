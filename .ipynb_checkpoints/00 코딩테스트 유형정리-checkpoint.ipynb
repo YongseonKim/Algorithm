{
 "cells": [
  {
   "cell_type": "markdown",
   "metadata": {},
   "source": [
    "## 코딩테스트 유형 정리\n",
    "\n"
   ]
  },
  {
   "cell_type": "markdown",
   "metadata": {},
   "source": [
    "### 1. 리스트 / 딕셔너리\n",
    " - 리스트 주요 연산\n",
    "     - len(a) : O(n), a[i]: O(1), elem in a : O(n), a.append(elem):O(1), a.pop():O(1),<br>\n",
    "       **a.pop(0):O(n) → Deque로 최적화**, del a[i] : O(n), **a.sort(): O(nlogn) → 팀소트**,<br>\n",
    "       min(a),min(b) : O(n), a.reverse() O(n)\n",
    " - 딕셔너리 주요 연산\n",
    "     - len(a) : O(1), a[key] :O(1), a[key]= value : O(1), key in a : O(1)\n",
    " - 딕셔너리 모듈\n",
    "     - defaultdict <br>\n",
    "         . **a = collections.defaultdict(int)** → key가 존재하지 않으면 생성해서 추가\n",
    "     - Counter <br>\n",
    "         . b = collections.Counter(a) → 리스트 내 값의 개수를 계산하여 딕셔너리로 리턴<br>\n",
    "         . b.most_common(2) : 자주 등장하는 값과 개수 2개 Return \n",
    "     - OrderedDict <br>\n",
    "         . Python 3.6 이하에서 해시 테이블은 입력 순서가 유지되지 않아 별도 객체로 제공<br>\n",
    "         . 3.7 이상은 자동으로 Dictionary가 해줌     "
   ]
  },
  {
   "cell_type": "markdown",
   "metadata": {},
   "source": [
    "### 2. 문자열 \n",
    "  -  팰린드롬(Palindrome) 찾기 : 앞뒤가 똑같은 문장 \n",
    "      - char.isalnum() : 영문자, 숫자 여부를 판별하는 함수  \n",
    "  - 문자열 뒤집기 : **투 포인터를 이용한 스왑**\n",
    "      - left, right를 정의하여 left<right 일 때 까지 반복하거나<br>\n",
    "      - left는 한칸, right는 두칸씩 이동하여 문제를 풀이할 수 있음\n",
    "  - 로그 파일 재정렬 : **sort + Lambda**\n",
    "      - char.isdigit() <br>\n",
    "      - let.sort(key=lambda x : (x.split()[1:],x.split()[0]))\n",
    "  - 정규 표현식을 사용한 풀이\n",
    "      - 데이터 클렌징 : re.sub([r'[^\\w]',' ', paragraph)) : \\w : 단어 문자를 뜻함 : 단어 문자가 아닌것 변경<br>\n",
    "      - s.lower(), re.sub('[^a-z0-9]','',s) : 소문자,숫자가 아닌것들 모두 변경\n",
    "  - 애너그램(anagram) : 문자를 재배열하여 다른 뜻을 가진 단어로 바꾸는 것\n",
    "       - sorted 활용하여 정렬한 값을 key로 list 추가해나가기: ''.join(sorted(word)).append(word) <br>\n",
    "       - defaultdict 활용\n",
    "  - 가장 긴 팰린드롬 부분 문자열 : **중앙에서 확장해나가기**\n",
    "      - 중첩함수를 사용하여 expand\n",
    "      - 투 포인트를 활용\n",
    "      - max(__,expand(i,i+1),expand(i,i+2), key = len) : 본인을 포함하여 하나는 한칸씩 이동 / 하나는 두칸씩 이동\n",
    "      "
   ]
  },
  {
   "cell_type": "code",
   "execution_count": 3,
   "metadata": {},
   "outputs": [],
   "source": [
    "## Valid palindrome\n",
    "class Solution:\n",
    "    def isPalindrome(self, s: str) -> bool:        \n",
    "        s= list(x for x in s.lower() if x.isalnum())        \n",
    "        return s == s[::-1]        "
   ]
  },
  {
   "cell_type": "code",
   "execution_count": null,
   "metadata": {},
   "outputs": [],
   "source": [
    "## 투 포인터를 이용한 스왑\n",
    "class Solution:\n",
    "    def reverseString(self, s: List[str]) -> None:\n",
    "        left, right = 0, len(s)-1        \n",
    "        while left<right:\n",
    "            s[left],s[right] = s[right], s[left]            \n",
    "            left+=1\n",
    "            right-=1\n",
    "        return s"
   ]
  },
  {
   "cell_type": "code",
   "execution_count": null,
   "metadata": {},
   "outputs": [],
   "source": [
    "# sort + Lambda \n",
    "class Solution:\n",
    "    def reorderLogFiles(self, logs: List[str]) -> List[str]:\n",
    "        \n",
    "        let, dig = [], []        \n",
    "        for log in logs :\n",
    "            if log.split()[1].isdigit():\n",
    "                dig.append(log)\n",
    "            else :\n",
    "                let.append(log)\n",
    "        let.sort(key=lambda x : (x.split()[1:],x.split()[0]))        \n",
    "        return let + dig\n",
    "    "
   ]
  },
  {
   "cell_type": "code",
   "execution_count": null,
   "metadata": {},
   "outputs": [],
   "source": [
    "class Solution:\n",
    "    def longestPalindrome(self, s: str) -> str:\n",
    "        \n",
    "        def expand(left, right):\n",
    "            while left>=0 and right <= len(s)  and s[left]== s[right-1]:\n",
    "                left -=1\n",
    "                right +=1\n",
    "            return s[left+1: right-1]\n",
    "    \n",
    "        if len(s)<2 or s==s[::-1]:\n",
    "            return s\n",
    "        \n",
    "        \n",
    "        result = ''\n",
    "        for i in range(len(s)-1):\n",
    "            result = max(result,\n",
    "                        expand(i,i+1), # Point는 본인을 포함해서 우측으로 한칸씩, 두칸씩\n",
    "                        expand(i,i+2),\n",
    "                        key =len)\n",
    "        return result"
   ]
  },
  {
   "cell_type": "markdown",
   "metadata": {},
   "source": [
    "### 3. 선형 자료구조 : 데이터 요소가 순차적(Sequential)으로 배열되는 구조\n",
    "  - 배열(array) / Stack / queue / linked list / 우선순위 큐 , 해시 테이블\n",
    "  1. 배열(array) : 리스트\n",
    "      - 두 수의 합 문제 \n",
    "          - 주어진 리스트를 값을 key로 하고, 위치를 value로 하는 딕셔너리로 구성<br>\n",
    "          - 반복문을 돌면서 Target값과의 차이에 해당하는 값이 딕셔너리에 있는지 찾는 방식 (value in dict)<br>\n",
    "          - 만약 리스트가 정렬되어 있는 조건이 있다면 **투포인터**로 해결할 수 있다.<br>\n",
    "          - 각 포인터의 합이 Target값 보다 작으면 left +=1 / Target값보다 크면 right-=1<br>\n",
    "      - 세 수의 합 문제\n",
    "          - O(n^3) → O(n^2)으로 푸는 것<br>\n",
    "          - 투 포인터는 주로 정렬되어 있는 곳에서 사용한다. --정렬을 시킬 수 있으면 시키는 것<br>\n",
    "          - 한 포인터는 반복문으로 돌아가고 left : 포인터+1 , right : len(문자)-1 투 포인터로<br>\n",
    "            보고 문제를 풀어가는 것 <br>\n",
    "      - 자신을 제외한 배열의 곱\n",
    "          - 왼쪽에서부터 곱셈하여 리스트를 만들고 우측에서 곱셈해오면서 최종값을 만듦<br>\n",
    "          - 반복문을 두개 연달아 사용하면 O(2n): O(n)으로 해결 가능\n",
    "      - 주식을 사고팔기 가장 좋은 시점\n",
    "          - 최저점과 최고점의 높이를 찾는 문제<br>\n",
    "          - 투 포인터 활용 → 한 포인트는 최저점에 머물고 한 포인트는 최고점을 갱신하면서 차이 계산\n",
    "          - 초기값 : **sys.maxsize**  ::최소값을 초기값 : **-sys.maxsize**"
   ]
  },
  {
   "cell_type": "code",
   "execution_count": 7,
   "metadata": {},
   "outputs": [],
   "source": [
    "class Solution:\n",
    "    def productExceptSelf(self, nums ): \n",
    "        # 제약 : 나눗셈을 사용하지 않는다. (without division)\n",
    "        # 제약 : O(n)에 해결한다.\n",
    "        # 전체를 곱한 다음에 자신을 나누면 바로 해결 가능하겠지만,\n",
    "        # without division 제약으로 인해 그럴수 없다.\n",
    "        # 좌측, 우측에서 곱해져 온 결과를 곱하자\n",
    "        \n",
    "        results = []\n",
    "        p = 1\n",
    "        for i in range(len(nums)):\n",
    "            results.append(p)\n",
    "            p = p * nums[i]\n",
    "        \n",
    "        p = 1\n",
    "        for i in range(len(nums)-1,-1,-1):\n",
    "            results[i] = results[i] * p\n",
    "            p = p * nums[i]\n",
    "        return results"
   ]
  },
  {
   "cell_type": "markdown",
   "metadata": {},
   "source": [
    "  2. Stack & Queue\n",
    "      - Stack : LIFO(Last In First out)\n",
    "          - push(), pop() 등 연산이 있지만, Python에선 리스트 append, pop() 사용     \n",
    "      - queue : deque 모듈을 사용해야 효율적으로 구현 가능 \n",
    "      - 우선순위 큐 : Heap 사용\n",
    "      - 유효한 괄호 : 올바르게 입력되었는지 확인 -- 기본기 확인에 좋음\n",
    "          - 닫힌 괄호를 Key로 하고 열린 괄호를 value로 하는 dictionary를 구성하여<br>\n",
    "          - 열린 괄호가 나오면 stack에 넣고 닫힌 괄호가 나오면 dictionary 에서 value를 불러와서<br>\n",
    "          - pop() 값과 일치하는지를 비교하는 방법으로 구성\n",
    "      - 중복 문자 제거 + 사전식 순서 \n",
    "          - Counter를 사용하여 뒤에 문자가 몇번 더 등장하는지를 체크하면서 중복을 제거 하는것<br>\n",
    "          - 중복을 제거할 때 사전식 순서로 제거해야함.\n",
    "      - 일일 온도를 체크하여더 따뜻한 날씨까지 며칠을 더 기다려야하는지\n",
    "          - **정답값을 0으로 먼저 채워두고 값을 변경**<br>\n",
    "     \n",
    "          "
   ]
  },
  {
   "cell_type": "code",
   "execution_count": null,
   "metadata": {},
   "outputs": [],
   "source": [
    "class Solution:\n",
    "    def dailyTemperatures(self, T: List[int]) -> List[int]:\n",
    "        \n",
    "        results = [0]*len(T)\n",
    "        stack = [] # index 추가\n",
    "        \n",
    "        for i, t in enumerate(T):\n",
    "            while stack and t > T[stack[-1]]:# cur가 더 크면\n",
    "                last = stack.pop()\n",
    "                results[last] = i-last\n",
    "            stack.append(i)\n",
    "            \n",
    "        return results"
   ]
  },
  {
   "cell_type": "code",
   "execution_count": null,
   "metadata": {},
   "outputs": [],
   "source": [
    "class Solution:\n",
    "    def removeDuplicateLetters(self, s: str) -> str:\n",
    "        # Stack으로 풀이한다.\n",
    "        # Stack에 문자를 쌓아두고 있다가 특정조건에 맞는 문자가\n",
    "        # 들어왔을 때 Stack에 있는 것을 하나씩 빼가면서 위치를 만들어주는 방식\n",
    "        # 문자를 본건 따로 저장        \n",
    "\n",
    "        cnt = collections.Counter(s)\n",
    "        stack = []\n",
    "        seen = set()        \n",
    "        for char in s:            \n",
    "            cnt[char] -=1            \n",
    "            if char in seen :\n",
    "                continue                \n",
    "            while stack and stack[-1] > char and cnt[stack[-1]]>0 :\n",
    "                seen.remove(stack.pop())\n",
    "            stack.append(char)\n",
    "            seen.add(char)\n",
    "                   \n",
    "        return ''.join(stack)"
   ]
  },
  {
   "cell_type": "markdown",
   "metadata": {},
   "source": [
    "  3. Hash Table\n",
    "   -  시간 복잡도가 O(1) 장점 \n",
    "   - dictionary 구성한 풀이 / defaultdict를 이용한 풀이 / count를 이용한 풀이\n",
    "   - 중복 문자 없는 가장 긴 부분 문자열 \n",
    "      - **슬라이딩 윈도우, 투 포인트를 활용**<br>\n",
    "      - 슬라이딩 윈도우로 한 칸씩 우측으로 이동하면서 윈도우 내에 중복이 없도록 윈도우 사이즈 조절<br>\n",
    "      - 투 포인트는 left,right가 아닌 start, max_size<br>\n",
    "      - 윈도우 사이즈를 키우다가 이미 등장한 단어라면 start 지점을 리셋하는 것 <br>\n",
    "   - k 번 등장하는 요소 찾기\n",
    "       - Counter로 요소 개수를 세고 **heapq.heaqpush(heap,(-value,f)), heapq.heappop(lst)** 사용<br>\n",
    "       - python heapq 모듈은 최소 힙만 지원하기 때문에 max heap은 - 로 "
   ]
  },
  {
   "cell_type": "code",
   "execution_count": null,
   "metadata": {},
   "outputs": [],
   "source": [
    "class Solution:\n",
    "    def lengthOfLongestSubstring(self, s: str) -> int:        \n",
    "        seen = {}\n",
    "        start = result =0\n",
    "        \n",
    "        for index, char in enumerate(s): # 슬라이딩\n",
    "            if char in seen and start <= seen[char] : #start가 seen 보다 뒤에 있다면\n",
    "                start = seen[char] +1\n",
    "            else :\n",
    "                result = max(result, index-start+1)            \n",
    "            seen[char] = index\n",
    "        \n",
    "        return result"
   ]
  },
  {
   "cell_type": "code",
   "execution_count": null,
   "metadata": {},
   "outputs": [],
   "source": [
    "class Solution:\n",
    "    def topKFrequent(self, nums: List[int], k: int) -> List[int]:\n",
    "        freqs =  collections.Counter(nums)\n",
    "        freqs_heap = []\n",
    "        \n",
    "        for f in freqs:\n",
    "            heapq.heappush(freqs_heap, (-freqs[f],f)) # 값 크기에 대해 Max heap (값, value)\n",
    "        topk = list()\n",
    "        for _ in range(k):\n",
    "            topk.append(heapq.heappop(freqs_heap)[1])\n",
    "        \n",
    "        return topk"
   ]
  },
  {
   "cell_type": "markdown",
   "metadata": {},
   "source": [
    "### 3. 비선형 자료구조 \n",
    "   - 그래프 & 그래프 순회(DFS, BFS)\n",
    "        - 그래프 순회 : 그래프 탐색이라 불리며 각 정점을 방문하는 과정\n",
    "        - **깊이우선 탐색(DFS):stack,재귀> 너비 우선 탐색(BFS) : queue**\n",
    "        - DFS를 이야기하다 보면 **백트래킹**이라는 단어가 나온다.\n",
    "        - 백트래킹 : 해결책에 대한 후보를 구축해 나아가다 가능성이 없으면 포기\n",
    "        - 백트래킹은 주로 **재귀**로 구현 하고 가보고 되돌아오고를 반복 \n",
    "   - 그래프 문제\n",
    "       - 섬의 개수 : dfs로 동서남북을 탐색해가면서 본것은 0으로 변경하면서 풀이/ 포인트는 언제 끝낼것인지\n",
    "       - 전화 번호 문자 조합 \n",
    "           - 전화번호에 해당하는 문자를 그래프화 시켜두고(딕셔너리 구성)<br>\n",
    "           - 숫자가 주어졌을때 그 숫자만큼 DFS 탐색을 해야한다. \n",
    "           - "
   ]
  },
  {
   "cell_type": "code",
   "execution_count": 9,
   "metadata": {},
   "outputs": [],
   "source": [
    "''' DFS 기본 코드 : 재귀 기반'''\n",
    "''' DFS 기본 코드 : 재귀 기반 : path 전달'''\n",
    "def recursive_dfs(v, discovered = []): # 가 값이 아니라 key 이거나 Index 이다.\n",
    "    discovered.append(v)\n",
    "    for w in graph[v]:\n",
    "        if not w in discovered: \n",
    "            discovered = recursive_dfs(w, discovered)\n",
    "    return discovered"
   ]
  },
  {
   "cell_type": "code",
   "execution_count": 11,
   "metadata": {},
   "outputs": [],
   "source": [
    "'''DFS 기본 코드 : Stack 기반'''\n",
    "def iterative_dfs(start_v):\n",
    "    discovered=[]\n",
    "    stack = [start_v]\n",
    "    while stack:\n",
    "        v= stack.pop()\n",
    "        if v not in discovered :\n",
    "            discovered.append(v)\n",
    "            for w in graph[v]:\n",
    "                stack.append(w)\n",
    "    return discovered"
   ]
  },
  {
   "cell_type": "code",
   "execution_count": 12,
   "metadata": {},
   "outputs": [],
   "source": [
    "''' BFS 기본 코드 : 큐를 이용'''\n",
    "def iterative_bfs(start_v):\n",
    "    discovered = [start_v]\n",
    "    queue = [start_v]\n",
    "    while queue :\n",
    "        v = queue.pop(0)\n",
    "        for w in graph[v]:\n",
    "            if w not in discovered :\n",
    "                discovered.append(w)\n",
    "                queue.append(w)\n",
    "    return discovered"
   ]
  },
  {
   "cell_type": "code",
   "execution_count": null,
   "metadata": {},
   "outputs": [],
   "source": [
    "class Solution:    \n",
    "    def numIslands(self, grid: List[List[str]]) -> int:        \n",
    "        results =0\n",
    "        # grid를 0으로 바꿔 가는 것\n",
    "        def dfs(i,j):\n",
    "            # print(i,j)\n",
    "            if i<0 or i>= len(grid) or j<0 or j>=len(grid[0]) or grid[i][j] == '0': # i,j !!!\n",
    "                return\n",
    "            grid[i][j]='0' # 본것은 변경\n",
    "            dfs(i+1,j)            \n",
    "            dfs(i-1,j)\n",
    "            dfs(i,j+1)\n",
    "            dfs(i,j-1)           \n",
    "        \n",
    "        for i in range(len(grid)):\n",
    "            for j in range(len(grid[0])):\n",
    "                if grid[i][j] !='0' :                   \n",
    "                    dfs(i,j)\n",
    "                    results +=1\n",
    "                \n",
    "        return results\n",
    "            "
   ]
  },
  {
   "cell_type": "code",
   "execution_count": null,
   "metadata": {},
   "outputs": [],
   "source": [
    "class Solution:\n",
    "    def letterCombinations(self, digits: str) -> List[str]:\n",
    "        grid = {'2': 'abc','3': 'def', '4': 'ghi',\n",
    "               '5': 'jkl', '6': 'mno', '7': 'pqrs','8': 'tuv','9': 'wxyz'}        \n",
    "        if not digits : \n",
    "            return []\n",
    "        \n",
    "        results = []\n",
    "        def dfs(index, path):\n",
    "            if len(path) == len(digits):\n",
    "                results.append(path)\n",
    "                return\n",
    "            for i in range(index, len(digits)):\n",
    "                for j in dic[digits[i]]:\n",
    "                    dfs(i+1, path+j)                    \n",
    "        dfs(0,\"\")\n",
    "        return results"
   ]
  },
  {
   "cell_type": "code",
   "execution_count": null,
   "metadata": {},
   "outputs": [],
   "source": []
  },
  {
   "cell_type": "code",
   "execution_count": null,
   "metadata": {},
   "outputs": [],
   "source": []
  },
  {
   "cell_type": "code",
   "execution_count": null,
   "metadata": {},
   "outputs": [],
   "source": []
  }
 ],
 "metadata": {
  "kernelspec": {
   "display_name": "popcorn",
   "language": "python",
   "name": "popcorn"
  },
  "language_info": {
   "codemirror_mode": {
    "name": "ipython",
    "version": 3
   },
   "file_extension": ".py",
   "mimetype": "text/x-python",
   "name": "python",
   "nbconvert_exporter": "python",
   "pygments_lexer": "ipython3",
   "version": "3.7.9"
  }
 },
 "nbformat": 4,
 "nbformat_minor": 4
}
