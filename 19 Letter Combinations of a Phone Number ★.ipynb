{
 "cells": [
  {
   "cell_type": "code",
   "execution_count": 1,
   "metadata": {},
   "outputs": [],
   "source": [
    "# https://leetcode.com/problems/letter-combinations-of-a-phone-number/"
   ]
  },
  {
   "cell_type": "code",
   "execution_count": null,
   "metadata": {},
   "outputs": [],
   "source": [
    "class Solution:\n",
    "    def letterCombinations(self, digits: str) -> List[str]:\n",
    "        grid = {'2': 'abc',\n",
    "               '3': 'def',\n",
    "               '4': 'ghi',\n",
    "               '5': 'jkl',\n",
    "               '6': 'mno',\n",
    "               '7': 'pqrs',\n",
    "               '8': 'tuv',\n",
    "               '9': 'wxyz'}\n",
    "        if not digits :\n",
    "            return []\n",
    "        \n",
    "        results = []\n",
    "        def dfs(idx, path):\n",
    "            # print(results)\n",
    "            if len(path) == len(digits):\n",
    "                results.append(path)\n",
    "                return\n",
    "            \n",
    "            for i in range(idx, len(digits)):\n",
    "                # print(digits[idx])\n",
    "                for j in grid[digits[i]]:\n",
    "                    dfs(i+1, path+j)\n",
    "            \n",
    "        dfs(0,\"\")\n",
    "        return results"
   ]
  },
  {
   "cell_type": "code",
   "execution_count": null,
   "metadata": {},
   "outputs": [],
   "source": []
  },
  {
   "cell_type": "code",
   "execution_count": null,
   "metadata": {},
   "outputs": [],
   "source": []
  },
  {
   "cell_type": "code",
   "execution_count": null,
   "metadata": {},
   "outputs": [],
   "source": []
  }
 ],
 "metadata": {
  "kernelspec": {
   "display_name": "popcorn",
   "language": "python",
   "name": "popcorn"
  },
  "language_info": {
   "codemirror_mode": {
    "name": "ipython",
    "version": 3
   },
   "file_extension": ".py",
   "mimetype": "text/x-python",
   "name": "python",
   "nbconvert_exporter": "python",
   "pygments_lexer": "ipython3",
   "version": "3.7.9"
  }
 },
 "nbformat": 4,
 "nbformat_minor": 4
}
