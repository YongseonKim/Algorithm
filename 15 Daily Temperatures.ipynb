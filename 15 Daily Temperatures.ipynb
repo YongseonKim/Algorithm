{
 "cells": [
  {
   "cell_type": "code",
   "execution_count": 1,
   "metadata": {},
   "outputs": [],
   "source": [
    "# https://leetcode.com/problems/daily-temperatures/"
   ]
  },
  {
   "cell_type": "code",
   "execution_count": null,
   "metadata": {},
   "outputs": [],
   "source": [
    "class Solution:\n",
    "    def dailyTemperatures(self, T: List[int]) -> List[int]:\n",
    "        \n",
    "        '''\n",
    "        Default 값이 0 이라면 0을 먼저 넣어두고 해당 Index 값을 변경하도록 하자\n",
    "        Index 차이를 구하는 것은 Index를 저장해두고 비교해가면서 풀면 된다.\n",
    "        \n",
    "        '''\n",
    "        \n",
    "        \n",
    "        results = [0]*len(T)\n",
    "        stack = [0]\n",
    "        \n",
    "        for idx in range(len(T)):\n",
    "            \n",
    "            while stack and T[stack[-1]]<T[idx]:\n",
    "                num =  stack.pop()\n",
    "                results[num] =  idx-num\n",
    "            stack.append(idx)\n",
    "            \n",
    "        return results"
   ]
  },
  {
   "cell_type": "code",
   "execution_count": null,
   "metadata": {},
   "outputs": [],
   "source": []
  }
 ],
 "metadata": {
  "kernelspec": {
   "display_name": "popcorn",
   "language": "python",
   "name": "popcorn"
  },
  "language_info": {
   "codemirror_mode": {
    "name": "ipython",
    "version": 3
   },
   "file_extension": ".py",
   "mimetype": "text/x-python",
   "name": "python",
   "nbconvert_exporter": "python",
   "pygments_lexer": "ipython3",
   "version": "3.7.9"
  }
 },
 "nbformat": 4,
 "nbformat_minor": 4
}
