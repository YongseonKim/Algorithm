{
 "cells": [
  {
   "cell_type": "code",
   "execution_count": null,
   "metadata": {},
   "outputs": [],
   "source": [
    "# https://leetcode.com/problems/longest-substring-without-repeating-characters/"
   ]
  },
  {
   "cell_type": "code",
   "execution_count": null,
   "metadata": {},
   "outputs": [],
   "source": [
    "class Solution:\n",
    "    def lengthOfLongestSubstring(self, s: str) -> int:\n",
    "        \n",
    "        # 중복 문자가 없는 가장 긴 부분 문자열 \n",
    "        # 슬라이딩 윈도우, Two point(start, idx)\n",
    "        \n",
    "        dic = {}\n",
    "        start = result = 0\n",
    "        \n",
    "        for idx, char in enumerate(s):\n",
    "            \n",
    "            # 이미 등장하고, start 보다 뒤에 있다면,\n",
    "            if char in dic and start<=dic[char]:\n",
    "                # start를 업데이트한다.\n",
    "                start = dic[char]+1\n",
    "            else:\n",
    "                result = max(result,idx-start+1)\n",
    "            \n",
    "            dic[char] = idx\n",
    "            \n",
    "        return result"
   ]
  }
 ],
 "metadata": {
  "kernelspec": {
   "display_name": "popcorn",
   "language": "python",
   "name": "popcorn"
  },
  "language_info": {
   "codemirror_mode": {
    "name": "ipython",
    "version": 3
   },
   "file_extension": ".py",
   "mimetype": "text/x-python",
   "name": "python",
   "nbconvert_exporter": "python",
   "pygments_lexer": "ipython3",
   "version": "3.7.9"
  }
 },
 "nbformat": 4,
 "nbformat_minor": 4
}
