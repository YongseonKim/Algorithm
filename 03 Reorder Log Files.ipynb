{
 "cells": [
  {
   "cell_type": "code",
   "execution_count": 1,
   "metadata": {},
   "outputs": [],
   "source": [
    "# https://leetcode.com/problems/reorder-data-in-log-files/"
   ]
  },
  {
   "cell_type": "code",
   "execution_count": null,
   "metadata": {},
   "outputs": [],
   "source": [
    "class Solution:\n",
    "    def reorderLogFiles(self, logs: List[str]) -> List[str]:\n",
    "        # 로그 정렬, 문자 > 숫자 \n",
    "        # 식별자란  : 맨 앞에 있는 것 \n",
    "        # 문자가 동일한 경우 식별자 순 \n",
    "        # 숫자 로그는 입력 순서 그대로\n",
    "        \n",
    "        let = [x for x in logs if x.split()[1].isalpha()] \n",
    "        dig = [x for x in logs if x.split()[1].isdigit()]\n",
    "        \n",
    "        let.sort(key = lambda x : (x.split()[1:],x.split()[0]))\n",
    "        \n",
    "        return let+ dig\n",
    "        "
   ]
  },
  {
   "cell_type": "code",
   "execution_count": null,
   "metadata": {},
   "outputs": [],
   "source": [
    "class Solution:\n",
    "    def reorderLogFiles(self, logs: List[str]) -> List[str]:\n",
    "                \n",
    "        letters, digits = [], []\n",
    "        logs = deque(logs)\n",
    "        while logs:\n",
    "            val = logs.popleft()\n",
    "\n",
    "            if val.split()[1].isdigit() : digits.append(val)\n",
    "            else : letters.append(val)\n",
    "\n",
    "        \n",
    "        # letters 순서는 문자가 동일하면 식별자 순\n",
    "        letters.sort(key = lambda x: (x.split()[1:],x.split()[0]))\n",
    "        return letters + digits\n",
    "        "
   ]
  }
 ],
 "metadata": {
  "kernelspec": {
   "display_name": "ion",
   "language": "python",
   "name": "ion"
  },
  "language_info": {
   "codemirror_mode": {
    "name": "ipython",
    "version": 3
   },
   "file_extension": ".py",
   "mimetype": "text/x-python",
   "name": "python",
   "nbconvert_exporter": "python",
   "pygments_lexer": "ipython3",
   "version": "3.7.7"
  }
 },
 "nbformat": 4,
 "nbformat_minor": 4
}
