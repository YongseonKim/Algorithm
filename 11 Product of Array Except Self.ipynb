{
 "cells": [
  {
   "cell_type": "code",
   "execution_count": 1,
   "metadata": {},
   "outputs": [],
   "source": [
    "# https://leetcode.com/problems/product-of-array-except-self/"
   ]
  },
  {
   "cell_type": "code",
   "execution_count": null,
   "metadata": {},
   "outputs": [],
   "source": [
    "class Solution:\n",
    "    def productExceptSelf(self, nums: List[int]) -> List[int]:\n",
    "        # 제약 : 나눗셈을 사용하지 않는다. (without division)\n",
    "        # 제약 : O(n)에 해결한다.\n",
    "        # 전체를 곱한 다음에 자신을 나누면 바로 해결 가능하겠지만,\n",
    "        # without division 제약으로 인해 그럴수 없다.\n",
    "        # 좌측, 우측에서 곱해져 온 결과를 곱하자\n",
    "        \n",
    "        left, right = [1],[1]\n",
    "        \n",
    "        for idx in range(len(nums)-1):\n",
    "            left.append(left[-1]*nums[idx])\n",
    "        # print(left)\n",
    "        \n",
    "        for idx in range(len(nums)-1,0,-1):\n",
    "            right.append(right[-1]*nums[idx])        \n",
    "        right  = right[::-1]\n",
    "        # print(right)\n",
    "        \n",
    "        return map(lambda x,y: x*y,left, right)"
   ]
  },
  {
   "cell_type": "code",
   "execution_count": 5,
   "metadata": {},
   "outputs": [
    {
     "name": "stdout",
     "output_type": "stream",
     "text": [
      "4\n",
      "3\n",
      "2\n",
      "1\n",
      "0\n"
     ]
    }
   ],
   "source": [
    "class Solution:\n",
    "    def productExceptSelf(self, nums: List[int]) -> List[int]:\n",
    "        # 제약 : 나눗셈을 사용하지 않는다. (without division)\n",
    "        # 제약 : O(n)에 해결한다.\n",
    "        # 전체를 곱한 다음에 자신을 나누면 바로 해결 가능하겠지만,\n",
    "        # without division 제약으로 인해 그럴수 없다.\n",
    "        # 좌측, 우측에서 곱해져 온 결과를 곱하자\n",
    "        \n",
    "        left, right = [1],[1]\n",
    "        \n",
    "        for idx in range(len(nums)-1):\n",
    "            left.append(left[-1]*nums[idx])\n",
    "\n",
    "        value = 1\n",
    "        for idx in range(len(nums)-1,-1,-1): # -1까지 \n",
    "            left[idx] = left[idx] * value  # 이전값을 곱하는 것 \n",
    "            value = value* nums[idx] \n",
    "\n",
    "        \n",
    "        return left"
   ]
  },
  {
   "cell_type": "code",
   "execution_count": null,
   "metadata": {},
   "outputs": [],
   "source": [
    "# 책 Solution\n",
    "\n",
    "class Solution:\n",
    "    def productExceptSelf(self, nums: List[int]) -> List[int]:\n",
    "        # 제약 : 나눗셈을 사용하지 않는다. (without division)\n",
    "        # 제약 : O(n)에 해결한다.\n",
    "        # 전체를 곱한 다음에 자신을 나누면 바로 해결 가능하겠지만,\n",
    "        # without division 제약으로 인해 그럴수 없다.\n",
    "        # 좌측, 우측에서 곱해져 온 결과를 곱하자\n",
    "        \n",
    "        left = []\n",
    "        value = 1\n",
    "        \n",
    "        for idx in range(len(nums)):\n",
    "            left.append(value)\n",
    "            value = value * nums[idx]\n",
    "        value = 1\n",
    "        for idx in range(len(nums)-1,-1,-1): # -1까지 \n",
    "            left[idx] = left[idx] * value  # 이전값을 곱하는 것 \n",
    "            value = value* nums[idx] \n",
    "\n",
    "        \n",
    "        return left"
   ]
  },
  {
   "cell_type": "code",
   "execution_count": null,
   "metadata": {},
   "outputs": [],
   "source": []
  }
 ],
 "metadata": {
  "kernelspec": {
   "display_name": "ion",
   "language": "python",
   "name": "ion"
  },
  "language_info": {
   "codemirror_mode": {
    "name": "ipython",
    "version": 3
   },
   "file_extension": ".py",
   "mimetype": "text/x-python",
   "name": "python",
   "nbconvert_exporter": "python",
   "pygments_lexer": "ipython3",
   "version": "3.7.7"
  }
 },
 "nbformat": 4,
 "nbformat_minor": 4
}
