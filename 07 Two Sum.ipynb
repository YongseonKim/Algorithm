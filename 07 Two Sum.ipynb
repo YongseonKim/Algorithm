{
 "cells": [
  {
   "cell_type": "code",
   "execution_count": 1,
   "metadata": {},
   "outputs": [],
   "source": [
    "# https://leetcode.com/problems/two-sum/"
   ]
  },
  {
   "cell_type": "code",
   "execution_count": null,
   "metadata": {},
   "outputs": [],
   "source": [
    "class Solution:\n",
    "    def twoSum(self, nums: List[int], target: int) -> List[int]:\n",
    "        \n",
    "        # 인덱스 리턴 \n",
    "        # Dictionary 활용한 풀이\n",
    "        dic = collections.defaultdict(list)\n",
    "        \n",
    "        # 각 값의 위치를 dictionary에 저장\n",
    "        for idx, val in enumerate(nums):\n",
    "            dic[val] = idx\n",
    "            \n",
    "        for idx, val in enumerate(nums):\n",
    "            if dic[target-val] and dic[target-val]!=idx:\n",
    "                return [idx, dic[target-val]]\n",
    "            "
   ]
  },
  {
   "cell_type": "code",
   "execution_count": null,
   "metadata": {},
   "outputs": [],
   "source": [
    "# Two Pointer\n",
    "\n",
    "\n",
    "class Solution:\n",
    "    def twoSum(self, nums: List[int], target: int) -> List[int]:\n",
    "        \n",
    "        # 정렬이 되어 있다는 가정하에 Two pointer 풀이\n",
    "        # 정렬이 되어 있지 않으면 Index가 꼬이기 때문에 풀이 불가\n",
    "        \n",
    "        left, right = 0, len(nums)-1\n",
    "        \n",
    "        while left<right:\n",
    "            \n",
    "            if nums[left] + nums[right]>target : # target 보다 크면 right를 내리고\n",
    "                right -=1\n",
    "            elif  nums[left] + nums[right]<target : # 작으면 left를 올리는 것\n",
    "                left +=1\n",
    "            else : # 같다면 그만\n",
    "                return [left, right]\n",
    "                \n",
    "            \n",
    "            "
   ]
  },
  {
   "cell_type": "code",
   "execution_count": null,
   "metadata": {},
   "outputs": [],
   "source": []
  }
 ],
 "metadata": {
  "kernelspec": {
   "display_name": "ion",
   "language": "python",
   "name": "ion"
  },
  "language_info": {
   "codemirror_mode": {
    "name": "ipython",
    "version": 3
   },
   "file_extension": ".py",
   "mimetype": "text/x-python",
   "name": "python",
   "nbconvert_exporter": "python",
   "pygments_lexer": "ipython3",
   "version": "3.7.7"
  }
 },
 "nbformat": 4,
 "nbformat_minor": 4
}
