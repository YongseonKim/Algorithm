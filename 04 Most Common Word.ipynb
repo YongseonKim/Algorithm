{
 "cells": [
  {
   "cell_type": "code",
   "execution_count": 1,
   "metadata": {},
   "outputs": [],
   "source": [
    "# https://leetcode.com/problems/most-common-word/"
   ]
  },
  {
   "cell_type": "code",
   "execution_count": null,
   "metadata": {},
   "outputs": [],
   "source": [
    "class Solution:\n",
    "    def mostCommonWord(self, paragraph: str, banned: List[str]) -> str:\n",
    "        # banned 단어와 마침표, 쉼표를 제외하고  가장 흔하게 등장하는 단어\n",
    "        # 마침표, 쉼표를 제외해야함. -- 정규표현식 re.sub\n",
    "        # 대소문자 구분하지 않음\n",
    "        # \\W - 문자+숫자(alphanumeric)가 아닌 문자와 매치, [^a-zA-Z0-9_]와 동일한 표현식이다.\n",
    "        \n",
    "        \n",
    "        paragraph = re.sub('[\\W]',' ',paragraph.lower())\n",
    "        paragraph = paragraph.split()\n",
    "        paragraph = [x for x in paragraph if x not in banned]\n",
    "        countdict = collections.Counter(paragraph)\n",
    "        return countdict.most_common()[0][0]"
   ]
  },
  {
   "cell_type": "code",
   "execution_count": null,
   "metadata": {},
   "outputs": [],
   "source": []
  },
  {
   "cell_type": "code",
   "execution_count": null,
   "metadata": {},
   "outputs": [],
   "source": []
  }
 ],
 "metadata": {
  "kernelspec": {
   "display_name": "ion",
   "language": "python",
   "name": "ion"
  },
  "language_info": {
   "codemirror_mode": {
    "name": "ipython",
    "version": 3
   },
   "file_extension": ".py",
   "mimetype": "text/x-python",
   "name": "python",
   "nbconvert_exporter": "python",
   "pygments_lexer": "ipython3",
   "version": "3.7.7"
  }
 },
 "nbformat": 4,
 "nbformat_minor": 4
}
