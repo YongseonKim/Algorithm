{
 "cells": [
  {
   "cell_type": "code",
   "execution_count": 2,
   "metadata": {},
   "outputs": [],
   "source": [
    "# https://leetcode.com/problems/remove-duplicate-letters/submissions/"
   ]
  },
  {
   "cell_type": "code",
   "execution_count": null,
   "metadata": {},
   "outputs": [],
   "source": [
    "class Solution:\n",
    "    def removeDuplicateLetters(self, s: str) -> str:\n",
    "        # Stack으로 풀이한다.\n",
    "        # Stack에 문자를 쌓아두고 있다가 특정조건에 맞는 문자가\n",
    "        # 들어왔을 때 Stack에 있는 것을 하나씩 빼가면서 위치를 만들어주는 방식\n",
    "        # 문자를 본건 따로 저장        \n",
    "\n",
    "        cnt = collections.Counter(s)\n",
    "        stack = []\n",
    "        seen = set()\n",
    "        \n",
    "        for char in s:            \n",
    "            cnt[char] -=1\n",
    "            \n",
    "            if char in seen :\n",
    "                continue\n",
    "                \n",
    "            while stack and stack[-1] > char and cnt[stack[-1]]>0 :\n",
    "                seen.remove(stack.pop())\n",
    "                \n",
    "            stack.append(char)\n",
    "            seen.add(char)\n",
    "            \n",
    "\n",
    "        \n",
    "        return ''.join(stack)"
   ]
  },
  {
   "cell_type": "code",
   "execution_count": null,
   "metadata": {},
   "outputs": [],
   "source": []
  }
 ],
 "metadata": {
  "kernelspec": {
   "display_name": "ion",
   "language": "python",
   "name": "ion"
  },
  "language_info": {
   "codemirror_mode": {
    "name": "ipython",
    "version": 3
   },
   "file_extension": ".py",
   "mimetype": "text/x-python",
   "name": "python",
   "nbconvert_exporter": "python",
   "pygments_lexer": "ipython3",
   "version": "3.7.7"
  }
 },
 "nbformat": 4,
 "nbformat_minor": 4
}
