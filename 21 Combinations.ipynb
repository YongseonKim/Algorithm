{
 "cells": [
  {
   "cell_type": "code",
   "execution_count": 1,
   "metadata": {},
   "outputs": [],
   "source": [
    "# https://leetcode.com/problems/combinations/"
   ]
  },
  {
   "cell_type": "code",
   "execution_count": null,
   "metadata": {},
   "outputs": [],
   "source": [
    "#  최적화 2\n",
    "class Solution:\n",
    "    def combine(self, n: int, k: int) -> List[List[int]]:\n",
    "        results = []\n",
    "        numbers = [x for x in range(1,n+1)]\n",
    "        \n",
    "        def dfs(nums,path):\n",
    "            if len(path) == k:\n",
    "                results.append(path[:])\n",
    "                return\n",
    "            \n",
    "            for idx in range(len(nums)):\n",
    "                # 중복 제거를 위해서 nums 잘라서 넣는다.\n",
    "                # path에 계속 포함되어 있는지 체크하는 구문 삭제\n",
    "                # if nums[idx] not in path: \n",
    "                path.append(nums[idx])\n",
    "\n",
    "                dfs(nums[idx+1:],path)\n",
    "\n",
    "                # path.remove(nums[idx])\n",
    "                # pop으로 변경하고 시간이 줄었다 1000 → 880ms\n",
    "                path.pop()\n",
    "                                                \n",
    "        dfs(numbers, [])\n",
    "        return results"
   ]
  },
  {
   "cell_type": "code",
   "execution_count": null,
   "metadata": {},
   "outputs": [],
   "source": [
    "# 최적화\n",
    "class Solution:\n",
    "    def combine(self, n: int, k: int) -> List[List[int]]:\n",
    "        results = []\n",
    "        numbers = [x for x in range(1,n+1)]\n",
    "        \n",
    "        def dfs(nums,path):\n",
    "            if len(nums)==0 or len(path) == k:\n",
    "                if len(path) == k :\n",
    "                    results.append(path[:])\n",
    "                return\n",
    "            \n",
    "            for idx in range(len(nums)):\n",
    "                # 중복 제거를 위해서 nums 잘라서 넣는다.\n",
    "                # path에 계속 포함되어 있는지 체크하는 구문 삭제\n",
    "                # if nums[idx] not in path: \n",
    "                path.append(nums[idx])\n",
    "\n",
    "                dfs(nums[idx+1:],path)\n",
    "\n",
    "                # path.remove(nums[idx])\n",
    "                # pop으로 변경하고 시간이 줄었다 1000 → 880ms\n",
    "                path.pop()\n",
    "                                                \n",
    "        dfs(numbers, [])\n",
    "        return results"
   ]
  },
  {
   "cell_type": "code",
   "execution_count": null,
   "metadata": {},
   "outputs": [],
   "source": [
    "# 매우 느린 솔루션\n",
    " \n",
    "class Solution:\n",
    "    def combine(self, n: int, k: int) -> List[List[int]]:\n",
    "        results = []\n",
    "        numbers = [x for x in range(1,n+1)]\n",
    "        \n",
    "        def dfs(nums,path):\n",
    "            if len(nums)==0 or len(path) == k:\n",
    "                results.append(path[:])\n",
    "                return\n",
    "            for idx in range(len(nums)):\n",
    "                # 중복 제거를 위해서 nums 잘라서 넣는다.\n",
    "                if nums[idx] not in path:\n",
    "                    path.append(nums[idx])\n",
    "                    \n",
    "                    dfs(nums[idx:],path)\n",
    "                    \n",
    "                    path.remove(nums[idx])\n",
    "                                                \n",
    "        dfs(numbers, [])\n",
    "        return results"
   ]
  },
  {
   "cell_type": "code",
   "execution_count": null,
   "metadata": {},
   "outputs": [],
   "source": []
  }
 ],
 "metadata": {
  "kernelspec": {
   "display_name": "popcorn",
   "language": "python",
   "name": "popcorn"
  },
  "language_info": {
   "codemirror_mode": {
    "name": "ipython",
    "version": 3
   },
   "file_extension": ".py",
   "mimetype": "text/x-python",
   "name": "python",
   "nbconvert_exporter": "python",
   "pygments_lexer": "ipython3",
   "version": "3.7.9"
  }
 },
 "nbformat": 4,
 "nbformat_minor": 4
}
