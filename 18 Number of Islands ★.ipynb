{
 "cells": [
  {
   "cell_type": "code",
   "execution_count": 1,
   "metadata": {},
   "outputs": [],
   "source": [
    "# https://leetcode.com/problems/number-of-islands/"
   ]
  },
  {
   "cell_type": "code",
   "execution_count": null,
   "metadata": {},
   "outputs": [],
   "source": [
    "class Solution:\n",
    "    \n",
    "    def numIslands(self, grid: List[List[str]]) -> int:\n",
    "        \n",
    "        cnt = 0        \n",
    "        def dfs(i,j):            \n",
    "            if i<0 or i>=len(grid) or j<0 or j>=len(grid[0]) or grid[i][j] ==\"0\":\n",
    "                return\n",
    "\n",
    "            grid[i][j]=\"0\"\n",
    "            # 동서 남북으로 Count\n",
    "            dfs(i+1,j)\n",
    "            dfs(i,j+1)\n",
    "            dfs(i-1,j)\n",
    "            dfs(i,j-1)\n",
    "            \n",
    "        for i in range(len(grid)):\n",
    "            for j in range(len(grid[0])):  \n",
    "                if grid[i][j]==\"1\":\n",
    "                    # print(grid[i][j])\n",
    "                    # DFS \n",
    "                    dfs(i,j)\n",
    "\n",
    "                    cnt+=1\n",
    "        \n",
    "        return cnt"
   ]
  },
  {
   "cell_type": "code",
   "execution_count": null,
   "metadata": {},
   "outputs": [],
   "source": []
  },
  {
   "cell_type": "code",
   "execution_count": null,
   "metadata": {},
   "outputs": [],
   "source": []
  }
 ],
 "metadata": {
  "kernelspec": {
   "display_name": "popcorn",
   "language": "python",
   "name": "popcorn"
  },
  "language_info": {
   "codemirror_mode": {
    "name": "ipython",
    "version": 3
   },
   "file_extension": ".py",
   "mimetype": "text/x-python",
   "name": "python",
   "nbconvert_exporter": "python",
   "pygments_lexer": "ipython3",
   "version": "3.7.9"
  }
 },
 "nbformat": 4,
 "nbformat_minor": 4
}
